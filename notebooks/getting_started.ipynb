{
 "cells": [
  {
   "attachments": {},
   "cell_type": "markdown",
   "metadata": {},
   "source": [
    "## Getting Started with SpanMarker\n",
    "[SpanMarker](https://github.com/tomaarsen/SpanMarkerNER) is an accessible yet powerful Python module for training Named Entity Recognition models.\n",
    "\n",
    "In this notebook, we'll have a look at how to train an NER model using SpanMarker."
   ]
  },
  {
   "attachments": {},
   "cell_type": "markdown",
   "metadata": {},
   "source": [
    "### Setup\n",
    "First of all, the `span_marker` Python module needs to be installed. If we want to use [Weights and Biases](https://wandb.ai/) for logging, we can install `span_marker` using the `[wandb]` extra."
   ]
  },
  {
   "cell_type": "code",
   "execution_count": null,
   "metadata": {},
   "outputs": [],
   "source": [
    "%pip install span_marker\n",
    "# %pip install span_marker[wandb]"
   ]
  },
  {
   "attachments": {},
   "cell_type": "markdown",
   "metadata": {},
   "source": [
    "### Loading the dataset\n",
    "For this example, we'll load the challenging [FewNERD supervised dataset](https://huggingface.co/datasets/DFKI-SLT/few-nerd) from the Hugging Face hub using 🤗 Datasets."
   ]
  },
  {
   "cell_type": "code",
   "execution_count": 2,
   "metadata": {},
   "outputs": [
    {
     "name": "stdout",
     "output_type": "stream",
     "text": [
      "100%|██████████| 3359329/3359329 [00:09<00:00, 342056.99it/s]\n"
     ]
    },
    {
     "name": "stdout",
     "output_type": "stream",
     "text": [
      "100%|██████████| 482037/482037 [00:01<00:00, 346172.32it/s]\n"
     ]
    },
    {
     "name": "stdout",
     "output_type": "stream",
     "text": [
      "100%|██████████| 958765/958765 [00:02<00:00, 346564.24it/s]\n"
     ]
    },
    {
     "name": "stdout",
     "output_type": "stream",
     "text": [
      "Dataset few-nerd downloaded and prepared to .... Subsequent calls will reuse this data.\n"
     ]
    },
    {
     "name": "stdout",
     "output_type": "stream",
     "text": [
      "DatasetDict({\n",
      "    train: Dataset({\n",
      "        features: ['id', 'tokens', 'ner_tags', 'fine_ner_tags'],\n",
      "        num_rows: 131767\n",
      "    })\n",
      "    validation: Dataset({\n",
      "        features: ['id', 'tokens', 'ner_tags', 'fine_ner_tags'],\n",
      "        num_rows: 18824\n",
      "    })\n",
      "    test: Dataset({\n",
      "        features: ['id', 'tokens', 'ner_tags', 'fine_ner_tags'],\n",
      "        num_rows: 37648\n",
      "    })\n",
      "})"
     ]
    }
   ],
   "source": [
    "from datasets import load_dataset\n",
    "\n",
    "dataset = load_dataset(\"DFKI-SLT/few-nerd\", \"supervised\")\n",
    "dataset"
   ]
  },
  {
   "attachments": {},
   "cell_type": "markdown",
   "metadata": {},
   "source": [
    "Let's inspect some samples to get a feel for the data."
   ]
  },
  {
   "cell_type": "code",
   "execution_count": 3,
   "metadata": {},
   "outputs": [
    {
     "name": "stdout",
     "output_type": "stream",
     "text": [
      "{'id': '0', 'tokens': ['Paul', 'International', 'airport', '.'], 'ner_tags': [0, 0, 0, 0], 'fine_ner_tags': [0, 0, 0, 0]}\n",
      "{'id': '1', 'tokens': ['It', 'starred', 'Hicks', \"'s\", 'wife', ',', 'Ellaline', 'Terriss', 'and', 'Edmund', 'Payne', '.'], 'ner_tags': [0, 0, 7, 0, 0, 0, 7, 7, 0, 7, 7, 0], 'fine_ner_tags': [0, 0, 51, 0, 0, 0, 50, 50, 0, 50, 50, 0]}\n",
      "{'id': '2', 'tokens': ['``', 'Time', '``', 'magazine', 'said', 'the', 'film', 'was', '``', 'a', 'multimillion', 'dollar', 'improvisation', 'that', 'does', 'everything', 'but', 'what', 'the', 'title', 'promises', \"''\", 'and', 'suggested', 'that', '``', 'writer', 'George', 'Axelrod', '(', '``', 'The', 'Seven', 'Year', 'Itch', '``', ')', 'and', 'director', 'Richard', 'Quine', 'should', 'have', 'taken', 'a', 'hint', 'from', 'Holden', '[', \"'s\", 'character', 'Richard', 'Benson', ']', ',', 'who', 'writes', 'his', 'movie', ',', 'takes', 'a', 'long', 'sober', 'look', 'at', 'what', 'he', 'has', 'wrought', ',', 'and', 'burns', 'it', '.', \"''\"], 'ner_tags': [0, 1, 0, 0, 0, 0, 0, 0, 0, 0, 0, 0, 0, 0, 0, 0, 0, 0, 0, 0, 0, 0, 0, 0, 0, 0, 0, 7, 7, 0, 0, 1, 1, 1, 1, 0, 0, 0, 0, 7, 7, 0, 0, 0, 0, 0, 0, 7, 0, 0, 0, 7, 7, 0, 0, 0, 0, 0, 0, 0, 0, 0, 0, 0, 0, 0, 0, 0, 0, 0, 0, 0, 0, 0, 0, 0], 'fine_ner_tags': [0, 6, 0, 0, 0, 0, 0, 0, 0, 0, 0, 0, 0, 0, 0, 0, 0, 0, 0, 0, 0, 0, 0, 0, 0, 0, 0, 51, 51, 0, 0, 6, 6, 6, 6, 0, 0, 0, 0, 53, 53, 0, 0, 0, 0, 0, 0, 54, 0, 0, 0, 54, 54, 0, 0, 0, 0, 0, 0, 0, 0, 0, 0, 0, 0, 0, 0, 0, 0, 0, 0, 0, 0, 0, 0, 0]}\n"
     ]
    }
   ],
   "source": [
    "for sample in dataset[\"train\"].select(range(3)):\n",
    "    print(sample)"
   ]
  },
  {
   "attachments": {},
   "cell_type": "markdown",
   "metadata": {},
   "source": [
    "As you can see, this dataset contains `tokens`, `ner_tags` and a `fine_ner_tags` columns. Let's have a look at which labels these last two represent using the [Dataset features](https://huggingface.co/docs/datasets/about_dataset_features)."
   ]
  },
  {
   "cell_type": "code",
   "execution_count": 4,
   "metadata": {},
   "outputs": [
    {
     "name": "stdout",
     "output_type": "stream",
     "text": [
      "['O', 'art', 'building', 'event', 'location', 'organization', 'other', 'person', 'product']\n"
     ]
    }
   ],
   "source": [
    "labels = dataset[\"train\"].features[\"ner_tags\"].feature.names\n",
    "print(labels)"
   ]
  },
  {
   "cell_type": "code",
   "execution_count": 5,
   "metadata": {},
   "outputs": [
    {
     "name": "stdout",
     "output_type": "stream",
     "text": [
      "['O', 'art-broadcastprogram', 'art-film', 'art-music', 'art-other', 'art-painting', 'art-writtenart', 'building-airport', 'building-hospital', 'building-hotel', 'building-library', 'building-other', 'building-restaurant', 'building-sportsfacility', 'building-theater', 'event-attack/battle/war/militaryconflict', 'event-disaster', 'event-election', 'event-other', 'event-protest', 'event-sportsevent', 'location-GPE', 'location-bodiesofwater', 'location-island', 'location-mountain', 'location-other', 'location-park', 'location-road/railway/highway/transit', 'organization-company', 'organization-education', 'organization-government/governmentagency', 'organization-media/newspaper', 'organization-other', 'organization-politicalparty', 'organization-religion', 'organization-showorganization', 'organization-sportsleague', 'organization-sportsteam', 'other-astronomything', 'other-award', 'other-biologything', 'other-chemicalthing', 'other-currency', 'other-disease', 'other-educationaldegree', 'other-god', 'other-language', 'other-law', 'other-livingthing', 'other-medical', 'person-actor', 'person-artist/author', 'person-athlete', 'person-director', 'person-other', 'person-politician', 'person-scholar', 'person-soldier', 'product-airplane', 'product-car', 'product-food', 'product-game', 'product-other', 'product-ship', 'product-software', 'product-train', 'product-weapon']\n"
     ]
    }
   ],
   "source": [
    "fine_labels = dataset[\"train\"].features[\"fine_ner_tags\"].feature.names\n",
    "print(fine_labels)"
   ]
  },
  {
   "attachments": {},
   "cell_type": "markdown",
   "metadata": {},
   "source": [
    "For the purposes of this tutorial, let's stick with the `ner_tags` coarse-grained labels, but I challenge you to modify this Notebook to train for the fine labels. For the SpanMarker model, any dataset can be used as long as it has a `tokens` and a `ner_tags` column. The `ner_tags` can be annotated using the IOB, IOB2, BIOES or BILOU labeling scheme, but also regular unschemed labels like in this FewNERD example can be used."
   ]
  },
  {
   "attachments": {},
   "cell_type": "markdown",
   "metadata": {},
   "source": [
    "### Initializing a `SpanMarkerModel`\n",
    "A SpanMarker model is initialized via [SpanMarkerModel.from_pretrained](https://tomaarsen.github.io/SpanMarkerNER/api/span_marker.modeling.html#span_marker.modeling.SpanMarkerModel.from_pretrained). This method will be familiar to those who know 🤗 Transformers. It accepts either a path to a local model or the name of a model on the [Hugging Face Hub](https://huggingface.co/models).\n",
    "\n",
    "Importantly, the model can *either* be an encoder or an already trained and saved SpanMarker model. As we haven't trained anything yet, we will use an encoder. To learn how to load and use a saved SpanMarker model, please have a look at the [Loading & Inferencing](model_loading.ipynb) notebook.\n",
    "\n",
    "Reasonable options for encoders include BERT, RoBERTa, etc., which means that the following are all good options: `\"bert-base-cased\"`, `\"bert-large-cased\"`, `\"roberta-base\"`, `\"roberta-large\"`. Not all encoders work though, they **must** allow for `position_ids` as an input argument, which disqualifies DistilBERT, T5, DistilRoBERTa, ALBERT & BART. Furthermore, using uncased models is generally not recommended, as the capitalisation can be very useful to find named entities.\n",
    "\n",
    "We'll use `\"bert-base-cased\"` for this notebook. If you're running this on Google Colab, be sure to set hardware accelerator to \"GPU\" in `Runtime` > `Change runtime type`."
   ]
  },
  {
   "cell_type": "code",
   "execution_count": 6,
   "metadata": {},
   "outputs": [
    {
     "name": "stdout",
     "output_type": "stream",
     "text": [
      "Some weights of the model checkpoint at bert-base-cased were not used when initializing BertModel: ['cls.seq_relationship.bias', 'cls.predictions.transform.LayerNorm.weight', 'cls.predictions.decoder.weight', 'cls.predictions.transform.LayerNorm.bias', 'cls.predictions.bias', 'cls.seq_relationship.weight', 'cls.predictions.transform.dense.weight', 'cls.predictions.transform.dense.bias']\n",
      "- This IS expected if you are initializing BertModel from the checkpoint of a model trained on another task or with another architecture (e.g. initializing a BertForSequenceClassification model from a BertForPreTraining model).\n",
      "- This IS NOT expected if you are initializing BertModel from the checkpoint of a model that you expect to be exactly identical (initializing a BertForSequenceClassification model from a BertForSequenceClassification model).\n"
     ]
    }
   ],
   "source": [
    "from span_marker import SpanMarkerModel\n",
    "\n",
    "model_name = \"bert-base-cased\"\n",
    "model = SpanMarkerModel.from_pretrained(model_name, labels=labels, model_max_length=256)"
   ]
  },
  {
   "attachments": {},
   "cell_type": "markdown",
   "metadata": {},
   "source": [
    "For us, these warnings are expected, as we are initializing `BertModel` for a new task.\n",
    "\n",
    "Note that we provided `SpanMarkerModel.from_pretrained` with a list of our labels. This is required when training a new model using an encoder. Furthermore, we can specify some useful configuration parameters from `SpanMarkerConfig`, such as:\n",
    "\n",
    "* `model_max_length`: The maximum number of tokens that the model will process. If you only use short sentences for your model, reducing this number may help training and inference speeds with no loss in performance. Defaults to the encoder maximum, or 512 if the encoder doesn't have a maximum.\n",
    "* `entity_max_length`: The total number of words that one entity can be. Defaults to 8."
   ]
  },
  {
   "attachments": {},
   "cell_type": "markdown",
   "metadata": {},
   "source": [
    "### Training\n",
    "At this point, our model is already ready for training! We can import [TrainingArguments](https://huggingface.co/docs/transformers/main_classes/trainer#transformers.TrainingArguments) directly from 🤗 Transformers as well as the SpanMarker `Trainer`. The `Trainer` is a subclass of the 🤗 Transformers [Trainer](https://huggingface.co/docs/transformers/main_classes/trainer) that simplifies some tasks for you, but otherwise it works just like the regular `Trainer`.\n",
    "\n",
    "This next snippet shows some reasonable defaults. Feel free to adjust the batch size to a lower value if you experience out of memory exceptions."
   ]
  },
  {
   "cell_type": "code",
   "execution_count": 7,
   "metadata": {},
   "outputs": [],
   "source": [
    "from transformers import TrainingArguments\n",
    "\n",
    "args = TrainingArguments(\n",
    "    output_dir=\"models/span-marker-bert-base-fewnerd-coarse-super\",\n",
    "    learning_rate=5e-5,\n",
    "    gradient_accumulation_steps=2,\n",
    "    per_device_train_batch_size=4,\n",
    "    per_device_eval_batch_size=4,\n",
    "    num_train_epochs=1,\n",
    "    evaluation_strategy=\"steps\",\n",
    "    save_strategy=\"steps\",\n",
    "    eval_steps=200,\n",
    "    push_to_hub=False,\n",
    "    logging_steps=50,\n",
    "    warmup_ratio=0.1,\n",
    "    dataloader_num_workers=2,\n",
    ")"
   ]
  },
  {
   "attachments": {},
   "cell_type": "markdown",
   "metadata": {},
   "source": [
    "Now we can create a SpanMarker `Trainer` in the same way that you would initialize a 🤗 Transformers `Trainer`. We'll train on a subsection of the data to save us some time. Amazingly, this `Trainer` will automatically create logs using exactly the logging tools that you have installed. With other words, if you prefer logging with [Tensorboard](https://www.tensorflow.org/tensorboard), all that you have to do is install it."
   ]
  },
  {
   "cell_type": "code",
   "execution_count": 8,
   "metadata": {},
   "outputs": [],
   "source": [
    "from span_marker import Trainer\n",
    "\n",
    "trainer = Trainer(\n",
    "    model=model,\n",
    "    args=args,\n",
    "    train_dataset=dataset[\"train\"].select(range(8000)),\n",
    "    eval_dataset=dataset[\"validation\"].select(range(2000)),\n",
    ")"
   ]
  },
  {
   "attachments": {},
   "cell_type": "markdown",
   "metadata": {},
   "source": [
    "Let's start training!"
   ]
  },
  {
   "cell_type": "code",
   "execution_count": 9,
   "metadata": {},
   "outputs": [
    {
     "name": "stdout",
     "output_type": "stream",
     "text": [
      "This SpanMarker model will ignore 0.339050% of all annotated entities in the train dataset. This is caused by the SpanMarkerModel maximum entity length of 8 words.\n",
      "These are the frequencies of the missed entities due to maximum entity length out of 20351 total entities:\n",
      "- 24 missed entities with 9 words (0.117930%)\n",
      "- 15 missed entities with 10 words (0.073706%)\n",
      "- 14 missed entities with 11 words (0.068793%)\n",
      "- 7 missed entities with 12 words (0.034396%)\n",
      "- 5 missed entities with 13 words (0.024569%)\n",
      "- 2 missed entities with 15 words (0.009828%)\n",
      "- 1 missed entities with 17 words (0.004914%)\n",
      "- 1 missed entities with 19 words (0.004914%)\n",
      "Tracking run with wandb version 0.14.0\n",
      "Run data is saved locally in ...\n",
      "Syncing run colorful-leaf-761 to Weights & Biases\n"
     ]
    },
    {
     "name": "stdout",
     "output_type": "stream",
     "text": [
      "{'loss': 0.9012, 'learning_rate': 2.032520325203252e-05, 'epoch': 0.04}\n",
      "{'loss': 0.0813, 'learning_rate': 4.065040650406504e-05, 'epoch': 0.08}\n",
      "{'loss': 0.0514, 'learning_rate': 4.8777173913043476e-05, 'epoch': 0.12}\n",
      "{'loss': 0.0385, 'learning_rate': 4.651268115942029e-05, 'epoch': 0.16}\n"
     ]
    },
    {
     "name": "stdout",
     "output_type": "stream",
     "text": [
      "This SpanMarker model won't be able to predict 0.307515% of all annotated entities in the evaluation dataset. This is caused by the SpanMarkerModel maximum entity length of 8 words.\n",
      "These are the frequencies of the missed entities due to maximum entity length out of 5203 total entities:\n",
      "- 5 missed entities with 9 words (0.096098%)\n",
      "- 5 missed entities with 10 words (0.096098%)\n",
      "- 2 missed entities with 11 words (0.038439%)\n",
      "- 1 missed entities with 12 words (0.019220%)\n",
      "- 3 missed entities with 13 words (0.057659%)\n"
     ]
    },
    {
     "name": "stdout",
     "output_type": "stream",
     "text": [
      "{'eval_loss': 0.03596973791718483, 'eval_overall_precision': 0.6802749427202666, 'eval_overall_recall': 0.6297724643270344, 'eval_overall_f1': 0.6540502653449485, 'eval_overall_accuracy': 0.9053643208390295, 'eval_runtime': 28.0718, 'eval_samples_per_second': 87.241, 'eval_steps_per_second': 21.837, 'epoch': 0.16}\n",
      "{'loss': 0.0334, 'learning_rate': 4.42481884057971e-05, 'epoch': 0.2}\n",
      "{'loss': 0.0306, 'learning_rate': 4.1983695652173914e-05, 'epoch': 0.24}\n",
      "{'loss': 0.0278, 'learning_rate': 3.971920289855073e-05, 'epoch': 0.29}\n"
     ]
    },
    {
     "name": "stdout",
     "output_type": "stream",
     "text": [
      "Loading cached processed dataset at ...\n",
      "Loading cached processed dataset at ...\n"
     ]
    },
    {
     "name": "stdout",
     "output_type": "stream",
     "text": [
      "{'loss': 0.0245, 'learning_rate': 3.745471014492754e-05, 'epoch': 0.33}\n"
     ]
    },
    {
     "name": "stdout",
     "output_type": "stream",
     "text": [
      "{'eval_loss': 0.023754317313432693, 'eval_overall_precision': 0.7612159329140461, 'eval_overall_recall': 0.700154261473197, 'eval_overall_f1': 0.7294094013660104, 'eval_overall_accuracy': 0.9214634046807729, 'eval_runtime': 28.2374, 'eval_samples_per_second': 86.729, 'eval_steps_per_second': 21.709, 'epoch': 0.33}\n",
      "{'loss': 0.0257, 'learning_rate': 3.5190217391304346e-05, 'epoch': 0.37}\n",
      "{'loss': 0.0237, 'learning_rate': 3.292572463768116e-05, 'epoch': 0.41}\n",
      "{'loss': 0.0234, 'learning_rate': 3.066123188405797e-05, 'epoch': 0.45}\n",
      "{'loss': 0.0241, 'learning_rate': 2.8396739130434785e-05, 'epoch': 0.49}\n"
     ]
    },
    {
     "name": "stdout",
     "output_type": "stream",
     "text": [
      "{'eval_loss': 0.02093053236603737, 'eval_overall_precision': 0.7934713036057179, 'eval_overall_recall': 0.7171230235248747, 'eval_overall_f1': 0.7533677706877343, 'eval_overall_accuracy': 0.9292782958232162, 'eval_runtime': 28.1912, 'eval_samples_per_second': 86.871, 'eval_steps_per_second': 21.744, 'epoch': 0.49}\n",
      "{'loss': 0.021, 'learning_rate': 2.6132246376811598e-05, 'epoch': 0.53}\n",
      "{'loss': 0.02, 'learning_rate': 2.3867753623188408e-05, 'epoch': 0.57}\n",
      "{'loss': 0.022, 'learning_rate': 2.1603260869565217e-05, 'epoch': 0.61}\n"
     ]
    },
    {
     "name": "stdout",
     "output_type": "stream",
     "text": [
      "Loading cached processed dataset at ...\n",
      "Loading cached processed dataset at ...\n"
     ]
    },
    {
     "name": "stdout",
     "output_type": "stream",
     "text": [
      "{'loss': 0.0237, 'learning_rate': 1.933876811594203e-05, 'epoch': 0.65}\n"
     ]
    },
    {
     "name": "stdout",
     "output_type": "stream",
     "text": [
      "{'eval_loss': 0.020754070952534676, 'eval_overall_precision': 0.7628806742003448, 'eval_overall_recall': 0.7680293096799075, 'eval_overall_f1': 0.7654463341981359, 'eval_overall_accuracy': 0.9358077087881818, 'eval_runtime': 28.0953, 'eval_samples_per_second': 87.168, 'eval_steps_per_second': 21.819, 'epoch': 0.65}\n",
      "{'loss': 0.0226, 'learning_rate': 1.7074275362318843e-05, 'epoch': 0.69}\n",
      "{'loss': 0.0218, 'learning_rate': 1.4809782608695653e-05, 'epoch': 0.73}\n",
      "{'loss': 0.0242, 'learning_rate': 1.2545289855072464e-05, 'epoch': 0.77}\n"
     ]
    },
    {
     "name": "stdout",
     "output_type": "stream",
     "text": [
      "Loading cached processed dataset at ...\n",
      "Loading cached processed dataset at ...\n"
     ]
    },
    {
     "name": "stdout",
     "output_type": "stream",
     "text": [
      "{'loss': 0.0197, 'learning_rate': 1.0280797101449275e-05, 'epoch': 0.81}\n"
     ]
    },
    {
     "name": "stdout",
     "output_type": "stream",
     "text": [
      "{'eval_loss': 0.019617434591054916, 'eval_overall_precision': 0.7771473292897672, 'eval_overall_recall': 0.7659082144234477, 'eval_overall_f1': 0.7714868408274256, 'eval_overall_accuracy': 0.937746128262156, 'eval_runtime': 28.2921, 'eval_samples_per_second': 86.561, 'eval_steps_per_second': 21.667, 'epoch': 0.81}\n",
      "{'loss': 0.0191, 'learning_rate': 8.016304347826086e-06, 'epoch': 0.86}\n",
      "{'loss': 0.0187, 'learning_rate': 5.751811594202898e-06, 'epoch': 0.9}\n",
      "{'loss': 0.0202, 'learning_rate': 3.4873188405797104e-06, 'epoch': 0.94}\n"
     ]
    },
    {
     "name": "stdout",
     "output_type": "stream",
     "text": [
      "Loading cached processed dataset at ...\n",
      "Loading cached processed dataset at ...\n"
     ]
    },
    {
     "name": "stdout",
     "output_type": "stream",
     "text": [
      "{'loss': 0.0221, 'learning_rate': 1.2228260869565218e-06, 'epoch': 0.98}\n"
     ]
    },
    {
     "name": "stdout",
     "output_type": "stream",
     "text": [
      "{'eval_loss': 0.019159900024533272, 'eval_overall_precision': 0.7773279352226721, 'eval_overall_recall': 0.7774778249132279, 'eval_overall_f1': 0.7774028728429576, 'eval_overall_accuracy': 0.9399702095533473, 'eval_runtime': 28.0225, 'eval_samples_per_second': 87.394, 'eval_steps_per_second': 21.875, 'epoch': 0.98}\n",
      "{'train_runtime': 453.1296, 'train_samples_per_second': 21.667, 'train_steps_per_second': 2.708, 'train_loss': 0.06319850289734186, 'epoch': 1.0}\n",
      "TrainOutput(global_step=1227, training_loss=0.06319850289734186, metrics={'train_runtime': 453.1296, 'train_samples_per_second': 21.667, 'train_steps_per_second': 2.708, 'train_loss': 0.06319850289734186, 'epoch': 1.0})"
     ]
    }
   ],
   "source": [
    "trainer.train()"
   ]
  },
  {
   "attachments": {},
   "cell_type": "markdown",
   "metadata": {},
   "source": [
    "And now the final step is to compute the model's performance."
   ]
  },
  {
   "cell_type": "code",
   "execution_count": 10,
   "metadata": {},
   "outputs": [
    {
     "name": "stdout",
     "output_type": "stream",
     "text": [
      "Loading cached processed dataset at ...\n",
      "Loading cached processed dataset at ...\n",
      "{'eval_loss': 0.019206691533327103,\n",
      " 'eval_overall_precision': 0.7758985200845666,\n",
      " 'eval_overall_recall': 0.7784419591207096,\n",
      " 'eval_overall_f1': 0.7771681586293194,\n",
      " 'eval_overall_accuracy': 0.9398477830602543,\n",
      " 'eval_runtime': 28.0849,\n",
      " 'eval_samples_per_second': 87.2,\n",
      " 'eval_steps_per_second': 21.827,\n",
      " 'epoch': 1.0}"
     ]
    }
   ],
   "source": [
    "metrics = trainer.evaluate()\n",
    "metrics"
   ]
  },
  {
   "attachments": {},
   "cell_type": "markdown",
   "metadata": {},
   "source": [
    "Additionally, we should evaluate using the test set."
   ]
  },
  {
   "cell_type": "code",
   "execution_count": 11,
   "metadata": {},
   "outputs": [
    {
     "name": "stdout",
     "output_type": "stream",
     "text": [
      "This SpanMarker model won't be able to predict 0.285605% of all annotated entities in the evaluation dataset. This is caused by the SpanMarkerModel maximum entity length of 8 words.\n",
      "These are the frequencies of the missed entities due to maximum entity length out of 5252 total entities:\n",
      "- 5 missed entities with 9 words (0.095202%)\n",
      "- 1 missed entities with 10 words (0.019040%)\n",
      "- 3 missed entities with 11 words (0.057121%)\n",
      "- 2 missed entities with 12 words (0.038081%)\n",
      "- 1 missed entities with 13 words (0.019040%)\n",
      "- 1 missed entities with 17 words (0.019040%)\n",
      "- 1 missed entities with 19 words (0.019040%)\n",
      "- 1 missed entities with 40 words (0.019040%)\n",
      "{'test_loss': 0.019189156591892242,\n",
      " 'test_overall_precision': 0.769879287219774,\n",
      " 'test_overall_recall': 0.7679663608562691,\n",
      " 'test_overall_f1': 0.7689216342933691,\n",
      " 'test_overall_accuracy': 0.938544749464231,\n",
      " 'test_runtime': 28.0932,\n",
      " 'test_samples_per_second': 86.854,\n",
      " 'test_steps_per_second': 21.713,\n",
      " 'epoch': 1.0}"
     ]
    }
   ],
   "source": [
    "trainer.evaluate(dataset[\"test\"].select(range(2000)), metric_key_prefix=\"test\")"
   ]
  },
  {
   "attachments": {},
   "cell_type": "markdown",
   "metadata": {},
   "source": [
    "Let's try the model out with some predictions. For this we can use the `model.predict` method, which accepts either:\n",
    "\n",
    "* A sentence as a string.\n",
    "* A tokenized sentence as a list of strings.\n",
    "* A list of sentences as a list of strings.\n",
    "* A list of tokenized sentences as a list of lists of strings.\n",
    "\n",
    "The method returns a list of dictionaries for each sentence, with the following keys:\n",
    "\n",
    "* `\"label\"`: The string label for the found entity.\n",
    "* `\"score\"`: The probability score indicating the model its confidence.\n",
    "* `\"span\"`: The entity span as a string.\n",
    "* `\"word_start_index\"` and `\"word_end_index\"`: Integers useful for indexing the entity from a tokenized sentence.\n",
    "* `\"char_start_index\"` and `\"char_end_index\"`: Integers useful for indexing the entity from a string sentence."
   ]
  },
  {
   "cell_type": "code",
   "execution_count": 12,
   "metadata": {},
   "outputs": [
    {
     "name": "stdout",
     "output_type": "stream",
     "text": [
      "Battle of Camulodunum => event\n",
      "Quintus Petillius Cerialis => person\n",
      "Boudica => person\n",
      "\n",
      "Wellingborough => location\n",
      "Northamptonshire => location\n",
      "Victoria Junior School => organization\n",
      "Westfield Boys School => organization\n",
      "Sir Christopher Hatton School => organization\n",
      "\n",
      "Nintendo => organization\n",
      "Wii => product\n",
      "Wii Mini => product\n",
      "Wii U => product\n",
      "Wii U => product\n",
      "\n",
      "Dorsa => person\n",
      "Bachelor of Music in Composition => other\n",
      "California State University => organization\n",
      "Northridge => location\n",
      "Cal State Northridge => organization\n",
      "Ann Arbor => organization\n",
      "\n"
     ]
    }
   ],
   "source": [
    "sentences = [\n",
    "    \"The Ninth suffered a serious defeat at the Battle of Camulodunum under Quintus Petillius Cerialis in the rebellion of Boudica (61), when most of the foot-soldiers were killed in a disastrous attempt to relieve the besieged city of Camulodunum (Colchester).\",\n",
    "    \"He was born in Wellingborough, Northamptonshire, where he attended Victoria Junior School, Westfield Boys School and Sir Christopher Hatton School.\",\n",
    "    \"Nintendo continued to sell the revised Wii model and the Wii Mini alongside the Wii U during the Wii U's first release year.\",\n",
    "    \"Dorsa has a Bachelor of Music in Composition from California State University, Northridge in 2001, Master of Music in Harpsichord Performance at Cal State Northridge in 2004, and a Doctor of Musical Arts at the University of Michigan, Ann Arbor in 2008.\"\n",
    "]\n",
    "\n",
    "entities_per_sentence = model.predict(sentences)\n",
    "\n",
    "for entities in entities_per_sentence:\n",
    "    for entity in entities:\n",
    "        print(entity[\"span\"], \"=>\", entity[\"label\"])\n",
    "    print()"
   ]
  },
  {
   "attachments": {},
   "cell_type": "markdown",
   "metadata": {},
   "source": [
    "Very impressive performance for less than 8 minutes trained! 🎉"
   ]
  },
  {
   "attachments": {},
   "cell_type": "markdown",
   "metadata": {},
   "source": [
    "Once trained, we can save our new model locally."
   ]
  },
  {
   "cell_type": "code",
   "execution_count": 13,
   "metadata": {},
   "outputs": [],
   "source": [
    "trainer.save_model(\"models/span-marker-bert-base-fewnerd-coarse-super/checkpoint-final\")"
   ]
  },
  {
   "attachments": {},
   "cell_type": "markdown",
   "metadata": {},
   "source": [
    "Or we can push it to the 🤗 Hub like so. I've commented it away for now to prevent people from accidentally pushing models."
   ]
  },
  {
   "cell_type": "code",
   "execution_count": 14,
   "metadata": {},
   "outputs": [],
   "source": [
    "trainer.push_to_hub()"
   ]
  },
  {
   "attachments": {},
   "cell_type": "markdown",
   "metadata": {},
   "source": [
    "If we want to use it again, we can just load it using the checkpoint or using the model name on the Hub. This is how it would be done using a local checkpoint."
   ]
  },
  {
   "cell_type": "code",
   "execution_count": 15,
   "metadata": {},
   "outputs": [],
   "source": [
    "# model = SpanMarkerModel.from_pretrained(\"models/span-marker-bert-base-fewnerd-coarse-super/checkpoint-final\")"
   ]
  },
  {
   "attachments": {},
   "cell_type": "markdown",
   "metadata": {},
   "source": [
    "That was all! As simple as that. If we put it all together into a single script, it looks something like this:\n",
    "```python\n",
    "from datasets import load_dataset\n",
    "from span_marker import SpanMarkerModel, Trainer\n",
    "from transformers import TrainingArguments\n",
    "\n",
    "def main():\n",
    "    dataset = load_dataset(\"DFKI-SLT/few-nerd\", \"supervised\")\n",
    "    labels = dataset[\"train\"].features[\"ner_tags\"].feature.names\n",
    "\n",
    "    model_name = \"bert-base-cased\"\n",
    "    model = SpanMarkerModel.from_pretrained(model_name, labels=labels)\n",
    "\n",
    "    args = TrainingArguments(\n",
    "        output_dir=\"models/span-marker-bert-base-fewnerd-coarse-super\",\n",
    "        learning_rate=5e-5,\n",
    "        gradient_accumulation_steps=2,\n",
    "        per_device_train_batch_size=4,\n",
    "        per_device_eval_batch_size=4,\n",
    "        num_train_epochs=1,\n",
    "        evaluation_strategy=\"steps\",\n",
    "        save_strategy=\"steps\",\n",
    "        eval_steps=200,\n",
    "        push_to_hub=False,\n",
    "        logging_steps=50,\n",
    "        warmup_ratio=0.1,\n",
    "        dataloader_num_workers=2,\n",
    "    )\n",
    "\n",
    "    trainer = Trainer(\n",
    "        model=model,\n",
    "        args=args,\n",
    "        train_dataset=dataset[\"train\"].select(range(8000)),\n",
    "        eval_dataset=dataset[\"validation\"].select(range(2000)),\n",
    "    )\n",
    "\n",
    "    trainer.train()\n",
    "    trainer.save_model(\"models/span-marker-bert-base-fewnerd-coarse-super/checkpoint-final\")\n",
    "\n",
    "    metrics = trainer.evaluate()\n",
    "    print(metrics)\n",
    "\n",
    "if __name__ == \"__main__\":\n",
    "    main()\n",
    "```"
   ]
  },
  {
   "attachments": {},
   "cell_type": "markdown",
   "metadata": {},
   "source": [
    "With `wandb` initialized, you can enjoy their very useful training graphs straight in your browser. It ends up looking something like this.\n",
    "![image](https://user-images.githubusercontent.com/37621491/235196250-15d595f4-6d72-4625-bde9-f3783484997b.png)\n",
    "![image](https://user-images.githubusercontent.com/37621491/235196335-6f36a7fb-5274-4ce5-a1f3-1d2ad35b26a4.png)\n",
    "\n",
    "Furthermore, you can use the `wandb` hyperparameter search functionality using the tutorial from the Hugging Face documentation [here](https://huggingface.co/docs/transformers/hpo_train). This transfers very well to the SpanMarker `Trainer`."
   ]
  },
  {
   "cell_type": "markdown",
   "metadata": {},
   "source": []
  }
 ],
 "metadata": {
  "kernelspec": {
   "display_name": "span-marker-ner",
   "language": "python",
   "name": "python3"
  },
  "language_info": {
   "codemirror_mode": {
    "name": "ipython",
    "version": 3
   },
   "file_extension": ".py",
   "mimetype": "text/x-python",
   "name": "python",
   "nbconvert_exporter": "python",
   "pygments_lexer": "ipython3",
   "version": "3.9.16"
  },
  "orig_nbformat": 4,
  "vscode": {
   "interpreter": {
    "hash": "c231fc6d0de0df4a232423539031d78e3a72f0f8d848d7b948e520fe3bfbe8ca"
   }
  }
 },
 "nbformat": 4,
 "nbformat_minor": 2
}
